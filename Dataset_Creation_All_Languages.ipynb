{
 "cells": [
  {
   "cell_type": "markdown",
   "id": "eb93e1e8",
   "metadata": {},
   "source": [
    "# Creation of the sub-datasets per language"
   ]
  },
  {
   "cell_type": "code",
   "execution_count": null,
   "id": "203171fc",
   "metadata": {},
   "outputs": [],
   "source": [
    "import json\n",
    "!pip install datasets\n",
    "\n",
    "import datasets\n",
    "\n",
    "\n",
    "from datasets import load_dataset\n",
    "dataset = load_dataset('swiss_judgment_prediction', 'all')"
   ]
  },
  {
   "cell_type": "code",
   "execution_count": null,
   "id": "5a3d1c75",
   "metadata": {},
   "outputs": [],
   "source": [
    "from datasets import concatenate_datasets\n",
    "all_data = concatenate_datasets([dataset[\"train\"],dataset[\"validation\"], dataset[\"test\"]])"
   ]
  },
  {
   "cell_type": "code",
   "execution_count": null,
   "id": "56c1b552",
   "metadata": {},
   "outputs": [],
   "source": [
    "#!pip install pandas\n",
    "import pandas as pd\n",
    "#!pip install pickle\n",
    "import pickle\n",
    "\n"
   ]
  },
  {
   "cell_type": "code",
   "execution_count": null,
   "id": "be89aadb",
   "metadata": {},
   "outputs": [],
   "source": [
    "de_data = all_data.filter(lambda example: example[\"language\"]==\"de\")\n",
    "print(de_data)\n",
    "fr_data = all_data.filter(lambda example: example[\"language\"]==\"fr\")\n",
    "print(fr_data)\n",
    "it_data = all_data.filter(lambda example: example[\"language\"]==\"it\")\n",
    "print(it_data)\n",
    "\n",
    "#creating a dataframe\n",
    "de_df=pd.DataFrame(de_data)\n",
    "fr_df=pd.DataFrame(fr_data)\n",
    "it_df=pd.DataFrame(it_data)\n",
    "\n",
    "#saving it for easy access in the language-specific files\n",
    "de_df.to_pickle('data/de_df_factor.pkl')\n",
    "fr_df.to_pickle('data/fr_df_factor.pkl')\n",
    "it_df.to_pickle('data/it_df_factor.pkl')"
   ]
  }
 ],
 "metadata": {
  "kernelspec": {
   "display_name": "Python 3 (ipykernel)",
   "language": "python",
   "name": "python3"
  },
  "language_info": {
   "codemirror_mode": {
    "name": "ipython",
    "version": 3
   },
   "file_extension": ".py",
   "mimetype": "text/x-python",
   "name": "python",
   "nbconvert_exporter": "python",
   "pygments_lexer": "ipython3",
   "version": "3.8.10"
  }
 },
 "nbformat": 4,
 "nbformat_minor": 5
}
